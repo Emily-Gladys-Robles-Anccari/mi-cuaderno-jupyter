{
  "metadata": {
    "kernelspec": {
      "name": "python",
      "display_name": "Python (Pyodide)",
      "language": "python"
    },
    "language_info": {
      "codemirror_mode": {
        "name": "python",
        "version": 3
      },
      "file_extension": ".py",
      "mimetype": "text/x-python",
      "name": "python",
      "nbconvert_exporter": "python",
      "pygments_lexer": "ipython3",
      "version": "3.8"
    }
  },
  "nbformat_minor": 5,
  "nbformat": 4,
  "cells": [
    {
      "id": "af35b4e3-f569-484e-a45b-61109d98b839",
      "cell_type": "markdown",
      "source": "# Data Science Tools and Ecosystem\n",
      "metadata": {}
    },
    {
      "id": "51fbfb1d-a1b8-489d-98a9-5d26c3a9e3b0",
      "cell_type": "markdown",
      "source": "En este cuaderno, se resumen las herramientas y ecosistemas de ciencia de datos.\n",
      "metadata": {}
    },
    {
      "id": "dd2837e8-ab98-4770-9c5c-00e85640863e",
      "cell_type": "markdown",
      "source": "**Objetivos:**\n\n- Listar lenguajes populares para Ciencia de Datos.  \n- Identificar herramientas utilizadas en Ciencia de Datos.  \n- Explicar bibliotecas comunes para análisis de datos.  \n- Realizar operaciones matemáticas con Python.  \n- Convertir unidades de tiempo en Python.  \n",
      "metadata": {}
    },
    {
      "id": "c40169bc-e3cb-4b76-b2fe-5ff9fd93bb81",
      "cell_type": "markdown",
      "source": "Algunos de los lenguajes populares que utilizan los científicos de datos son:\n\n1. Python  \n2. R  \n3. SQL  \n4. Julia  \n5. Scala  \n",
      "metadata": {}
    },
    {
      "id": "1a3bbef5-55c6-4e4e-be36-99c24a428a7d",
      "cell_type": "markdown",
      "source": "Algunas de las bibliotecas comúnmente utilizadas por los científicos de datos incluyen:\n\n1. Pandas  \n2. NumPy  \n3. Scikit-learn  \n4. TensorFlow  \n5. Matplotlib  \n",
      "metadata": {}
    },
    {
      "id": "8b4861f1-14db-4a62-bc38-5fb24f93d414",
      "cell_type": "markdown",
      "source": "| Herramientas de Ciencia de Datos |\n|----------------------------------|\n| Jupyter Notebook                 |\n| RStudio                           |\n| Apache Zeppelin                   |\n",
      "metadata": {}
    },
    {
      "id": "afa370a7-0971-4a66-a88c-1e20bb832bd2",
      "cell_type": "markdown",
      "source": "### A continuación, se presentan algunos ejemplos de evaluación de expresiones aritméticas en Python.\n\n- Suma: `3 + 2`\n- Resta: `5 - 2`\n- Multiplicación: `4 * 3`\n- División: `10 / 2`\n- Exponentes: `2 ** 3`\n- Módulo: `7 % 3`\n",
      "metadata": {}
    },
    {
      "id": "759e0311-081b-4ca7-832d-ad88ce9cb0a4",
      "cell_type": "code",
      "source": "# Esta es una expresión aritmética simple para multiplicar y luego sumar enteros\nresultado = (3 * 4) + 5\nprint(resultado)  # Debería imprimir 17\n",
      "metadata": {
        "trusted": true
      },
      "outputs": [
        {
          "name": "stdout",
          "output_type": "stream",
          "text": "17\n"
        }
      ],
      "execution_count": 1
    },
    {
      "id": "191cac05-49c7-4130-b67a-6ae543cba29d",
      "cell_type": "code",
      "source": "# Esto convertirá 200 minutos a horas dividiendo por 60\nhoras = 200 / 60\nprint(horas)  # Debería imprimir 3.3333...\n",
      "metadata": {
        "trusted": true
      },
      "outputs": [
        {
          "name": "stdout",
          "output_type": "stream",
          "text": "3.3333333333333335\n"
        }
      ],
      "execution_count": 2
    },
    {
      "id": "f8b269a1-b77e-423b-9373-18b2a820cde5",
      "cell_type": "markdown",
      "source": "## Autor  \n\nEmily Gladys Robles Anccari\n",
      "metadata": {}
    },
    {
      "id": "15a7d5bb-32a1-4a03-a56d-fbcca5a11c99",
      "cell_type": "code",
      "source": "",
      "metadata": {
        "trusted": true
      },
      "outputs": [],
      "execution_count": null
    }
  ]
}